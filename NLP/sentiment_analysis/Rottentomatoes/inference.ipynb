{
 "cells": [
  {
   "cell_type": "markdown",
   "metadata": {},
   "source": [
    "Dengan model yang dibuat sebelumnya, kita dapat melakukan inference sebagai berikut"
   ]
  },
  {
   "cell_type": "code",
   "execution_count": 5,
   "metadata": {},
   "outputs": [],
   "source": [
    "import numpy as np\n",
    "import pandas as pd\n",
    "import pickle\n",
    "from tensorflow.keras.models import load_model\n",
    "from tensorflow.keras.preprocessing.sequence import pad_sequences\n",
    "\n",
    "def load_saved_model():\n",
    "    model = load_model('review_classification_model.h5')\n",
    "    \n",
    "    with open('tokenizer.pickle', 'rb') as handle:\n",
    "        tokenizer = pickle.load(handle)\n",
    "    \n",
    "    with open('label_encoder.pickle', 'rb') as handle:\n",
    "        label_encoder = pickle.load(handle)\n",
    "    \n",
    "    return model, tokenizer, label_encoder\n",
    "\n",
    "def predict_single_review(text, model, tokenizer, label_encoder, max_len=150):\n",
    "    seq = tokenizer.texts_to_sequences([text])\n",
    "    padded = pad_sequences(seq, maxlen=max_len)\n",
    "    pred = model.predict(padded, verbose=0)\n",
    "    predicted_class_index = np.argmax(pred, axis=1)[0]\n",
    "    predicted_class = label_encoder.inverse_transform([predicted_class_index])[0]\n",
    "    confidence = pred[0][predicted_class_index]\n",
    "    \n",
    "    return predicted_class, confidence\n",
    "\n"
   ]
  },
  {
   "cell_type": "code",
   "execution_count": 6,
   "metadata": {},
   "outputs": [
    {
     "name": "stderr",
     "output_type": "stream",
     "text": [
      "WARNING:absl:Compiled the loaded model, but the compiled metrics have yet to be built. `model.compile_metrics` will be empty until you train or evaluate the model.\n"
     ]
    }
   ],
   "source": [
    "model, tokenizer, label_encoder = load_saved_model()"
   ]
  },
  {
   "cell_type": "code",
   "execution_count": 7,
   "metadata": {},
   "outputs": [
    {
     "name": "stdout",
     "output_type": "stream",
     "text": [
      "Review: this is the best movie ever!\n",
      "Prediksi: good (Confidence: 0.99)\n",
      "Review: just decent, nothing special\n",
      "Prediksi: neutral (Confidence: 0.84)\n",
      "Review: so boring, i sleep in most of it\n",
      "Prediksi: bad (Confidence: 0.94)\n"
     ]
    }
   ],
   "source": [
    "review1 = \"this is the best movie ever!\"\n",
    "review2 = \"just decent, nothing special\"\n",
    "review3 = \"so boring, i sleep in most of it\"\n",
    "\n",
    "reviews = [review1, review2, review3]\n",
    "\n",
    "for review in reviews:\n",
    "    predicted_class, confidence = predict_single_review(review, model, tokenizer, label_encoder)\n",
    "    print(f\"Review: {review}\")\n",
    "    print(f\"Prediksi: {predicted_class} (Confidence: {confidence:.2f})\")"
   ]
  },
  {
   "cell_type": "code",
   "execution_count": null,
   "metadata": {},
   "outputs": [],
   "source": []
  }
 ],
 "metadata": {
  "kernelspec": {
   "display_name": "rottenTomatoes",
   "language": "python",
   "name": "python3"
  },
  "language_info": {
   "codemirror_mode": {
    "name": "ipython",
    "version": 3
   },
   "file_extension": ".py",
   "mimetype": "text/x-python",
   "name": "python",
   "nbconvert_exporter": "python",
   "pygments_lexer": "ipython3",
   "version": "3.12.3"
  }
 },
 "nbformat": 4,
 "nbformat_minor": 2
}
